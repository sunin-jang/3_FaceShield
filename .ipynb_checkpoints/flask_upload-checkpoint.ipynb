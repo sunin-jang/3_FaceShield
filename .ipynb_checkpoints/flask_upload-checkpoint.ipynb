{
 "cells": [
  {
   "cell_type": "code",
   "execution_count": 5,
   "metadata": {
    "scrolled": true
   },
   "outputs": [
    {
     "name": "stdout",
     "output_type": "stream",
     "text": [
      " * Serving Flask app \"__main__\" (lazy loading)\n",
      " * Environment: production\n",
      "   WARNING: This is a development server. Do not use it in a production deployment.\n",
      "   Use a production WSGI server instead.\n",
      " * Debug mode: on\n"
     ]
    },
    {
     "name": "stderr",
     "output_type": "stream",
     "text": [
      " * Restarting with stat\n"
     ]
    },
    {
     "ename": "SystemExit",
     "evalue": "1",
     "output_type": "error",
     "traceback": [
      "An exception has occurred, use %tb to see the full traceback.\n",
      "\u001b[1;31mSystemExit\u001b[0m\u001b[1;31m:\u001b[0m 1\n"
     ]
    }
   ],
   "source": [
    "from flask import Flask, render_template, request\n",
    "from werkzeug import secure_filename\n",
    "app = Flask(__name__)\n",
    "\n",
    "@app.route('/')\n",
    "   return render_template('index.html')\n",
    "   \n",
    "#업로드 HTML 렌더링\n",
    "@app.route('/upload')\n",
    "def render_file():\n",
    "   return render_template('upload.html')\n",
    "\n",
    "#파일 업로드 처리\n",
    "@app.route('/fileUpload', methods = ['GET', 'POST'])\n",
    "def upload_file():\n",
    "   if request.method == 'POST':\n",
    "      f = request.files['file']\n",
    "      #저장할 경로 + 파일명\n",
    "      f.save('C:/Users/SM32/3차프로젝트/flask_upload/uploads/' + secure_filename(f.filename))\n",
    "      return 'uploads 디렉토리 -> 파일 업로드 성공!'\n",
    "\n",
    "#비디오 업로드 처리\n",
    "@app.route('/videoUpload', methods = ['GET', 'POST'])\n",
    "def upload_video():\n",
    "   if request.method == 'POST':\n",
    "      f = request.files['file']\n",
    "      #저장할 경로 + 파일명\n",
    "      f.save('C:/Users/SM32/3차프로젝트/flask_upload/uploads_video/' + secure_filename(f.filename))\n",
    "      return 'uploads_video 디렉토리 -> 비디오 업로드 성공!'\n",
    "\n",
    "if __name__ == '__main__':\n",
    "    #서버 실행\n",
    "   app.run(debug = True)"
   ]
  }
 ],
 "metadata": {
  "kernelspec": {
   "display_name": "Python 3",
   "language": "python",
   "name": "python3"
  },
  "language_info": {
   "codemirror_mode": {
    "name": "ipython",
    "version": 3
   },
   "file_extension": ".py",
   "mimetype": "text/x-python",
   "name": "python",
   "nbconvert_exporter": "python",
   "pygments_lexer": "ipython3",
   "version": "3.7.3"
  }
 },
 "nbformat": 4,
 "nbformat_minor": 2
}
